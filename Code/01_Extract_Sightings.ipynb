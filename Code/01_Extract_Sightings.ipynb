{
 "cells": [
  {
   "cell_type": "code",
   "execution_count": null,
   "id": "02c60420-08dd-4abe-8870-fb06ee63eb0c",
   "metadata": {},
   "outputs": [],
   "source": [
    "# Import Splinter, BeautifulSoup and dependencies\n",
    "import requests\n",
    "from bs4 import BeautifulSoup as bs\n",
    "from pymongo import MongoClient\n",
    "from splinter import Browser\n",
    "from selenium import webdriver\n",
    "import time\n",
    "import pandas as pd\n",
    "from pprint import pprint\n",
    "import numpy as np"
   ]
  },
  {
   "cell_type": "markdown",
   "id": "6b2d1ba6-0326-4391-bbfd-24222274c592",
   "metadata": {},
   "source": [
    "## Data Extraction: Web Scrape and Save Output"
   ]
  },
  {
   "cell_type": "code",
   "execution_count": null,
   "id": "6108c421-5842-49c9-89ba-2dd6a4dc8376",
   "metadata": {},
   "outputs": [],
   "source": [
    "# Launch browser\n",
    "browser = Browser('chrome') \n",
    "url = \"https://nuforc.org/subndx/?id=all\"\n",
    "browser.visit(url)\n",
    "time.sleep(4) \n",
    "\n",
    "# Initialize an empty list to store all sightings\n",
    "sightings = []\n"
   ]
  },
  {
   "cell_type": "code",
   "execution_count": null,
   "id": "01e73720-0711-4835-b092-8f419c2a58ff",
   "metadata": {},
   "outputs": [],
   "source": [
    "record_count = 0\n",
    "total_records_to_collect = 59000\n",
    "\n",
    "# Main scraping loop\n",
    "while record_count < total_records_to_collect:\n",
    "    # Create Beautiful Soup object\n",
    "    html = browser.html\n",
    "    soup = bs(html, 'html.parser')\n",
    "    time.sleep(2) \n",
    "    \n",
    "    # Find the sightings data table on the current page\n",
    "    table = soup.find('div', id='outer-wrap').find('table', id='table_1')\n",
    "    time.sleep(2)\n",
    "    \n",
    "    rows = table.find_all('tr')\n",
    "    for row in rows:\n",
    "        data = row.find_all('td')\n",
    "        record = [d.text for d in data]\n",
    "        sightings.append(record)\n",
    "        record_count += 1\n",
    "        #print(record_count)\n",
    "        \n",
    "    time.sleep(2)\n",
    "    \n",
    "    # Click the next button using JavaScript to bypass interception\n",
    "    try:\n",
    "        next_button = browser.find_by_id('table_1_next')\n",
    "        browser.execute_script(\"arguments[0].click();\", next_button[0]._element)\n",
    "        time.sleep(5)\n",
    "    except Exception as e:\n",
    "        print(f\"Error clicking next button: {e}\")\n",
    "        break \n"
   ]
  },
  {
   "cell_type": "code",
   "execution_count": null,
   "id": "36de994f-7e0a-4e10-82de-1c4113cce9ea",
   "metadata": {},
   "outputs": [],
   "source": [
    "# Close the browser\n",
    "browser.quit()"
   ]
  },
  {
   "cell_type": "code",
   "execution_count": null,
   "id": "95645383-10aa-423f-9c0f-6aa444e56862",
   "metadata": {},
   "outputs": [],
   "source": [
    "# Create Pandas dataframe for sightings data\n",
    "sightings_df = pd.DataFrame(sightings,\n",
    "                           columns = [\"LINK\",\n",
    "                                     \"OCCURRED_DATE\",\n",
    "                                     \"CITY\",\n",
    "                                     \"STATE\",\n",
    "                                     \"COUNTRY\",\n",
    "                                     \"SHAPE\",\n",
    "                                     \"SUMMARY\",\n",
    "                                      \"REPORTED\",\n",
    "                                     \"MEDIA\",\n",
    "                                     \"EXPLANATION\"\n",
    "                                     ])"
   ]
  },
  {
   "cell_type": "code",
   "execution_count": null,
   "id": "3b163bca-a4e6-4d58-b345-4b9b35777e10",
   "metadata": {},
   "outputs": [],
   "source": [
    "# Remove unnecessary columns for planned data analysis\n",
    "sightings_df = sightings_df.drop(columns = [\"LINK\", \"MEDIA\", \"EXPLANATION\"])"
   ]
  },
  {
   "cell_type": "code",
   "execution_count": null,
   "id": "702cf025-dc97-4fdd-9852-05a10f126e76",
   "metadata": {},
   "outputs": [],
   "source": [
    "# Save sightings data for future use\n",
    "sightings_df.to_csv('../Output/sightings_df.csv',index=False)"
   ]
  },
  {
   "cell_type": "markdown",
   "id": "842f0a0b-54cc-47bb-b163-66f7216cf22e",
   "metadata": {},
   "source": [
    "## Data Transformation: Read Output, Perform Data Filtering and Data Cleansing"
   ]
  },
  {
   "cell_type": "code",
   "execution_count": 1,
   "id": "bf8cc612-2af7-4977-b779-92843d967e17",
   "metadata": {},
   "outputs": [],
   "source": [
    "import pandas as pd\n",
    "import numpy as np"
   ]
  },
  {
   "cell_type": "code",
   "execution_count": 2,
   "id": "23e868c8-cd22-49eb-87f7-c85f3e15eeaa",
   "metadata": {},
   "outputs": [
    {
     "data": {
      "text/html": [
       "<div>\n",
       "<style scoped>\n",
       "    .dataframe tbody tr th:only-of-type {\n",
       "        vertical-align: middle;\n",
       "    }\n",
       "\n",
       "    .dataframe tbody tr th {\n",
       "        vertical-align: top;\n",
       "    }\n",
       "\n",
       "    .dataframe thead th {\n",
       "        text-align: right;\n",
       "    }\n",
       "</style>\n",
       "<table border=\"1\" class=\"dataframe\">\n",
       "  <thead>\n",
       "    <tr style=\"text-align: right;\">\n",
       "      <th></th>\n",
       "      <th>OCCURRED_DATE</th>\n",
       "      <th>CITY</th>\n",
       "      <th>STATE</th>\n",
       "      <th>COUNTRY</th>\n",
       "      <th>SHAPE</th>\n",
       "      <th>SUMMARY</th>\n",
       "      <th>REPORTED</th>\n",
       "    </tr>\n",
       "  </thead>\n",
       "  <tbody>\n",
       "    <tr>\n",
       "      <th>0</th>\n",
       "      <td>NaN</td>\n",
       "      <td>NaN</td>\n",
       "      <td>NaN</td>\n",
       "      <td>NaN</td>\n",
       "      <td>NaN</td>\n",
       "      <td>NaN</td>\n",
       "      <td>NaN</td>\n",
       "    </tr>\n",
       "    <tr>\n",
       "      <th>1</th>\n",
       "      <td>06/20/2024 09:30</td>\n",
       "      <td>Cranston</td>\n",
       "      <td>RI</td>\n",
       "      <td>USA</td>\n",
       "      <td>Flash</td>\n",
       "      <td>My wife and I as well as our 2 children witnes...</td>\n",
       "      <td>Y</td>\n",
       "    </tr>\n",
       "    <tr>\n",
       "      <th>2</th>\n",
       "      <td>06/20/2024 04:30</td>\n",
       "      <td>Oklahoma City</td>\n",
       "      <td>OK</td>\n",
       "      <td>USA</td>\n",
       "      <td>Light</td>\n",
       "      <td>Erratically moving light at high altitude</td>\n",
       "      <td>NaN</td>\n",
       "    </tr>\n",
       "    <tr>\n",
       "      <th>3</th>\n",
       "      <td>06/20/2024 00:50</td>\n",
       "      <td>Key West</td>\n",
       "      <td>FL</td>\n",
       "      <td>USA</td>\n",
       "      <td>Light</td>\n",
       "      <td>Saw unexplainable lights slightly west of Nort...</td>\n",
       "      <td>Y</td>\n",
       "    </tr>\n",
       "    <tr>\n",
       "      <th>4</th>\n",
       "      <td>06/19/2024 17:50</td>\n",
       "      <td>Valley Stream</td>\n",
       "      <td>NY</td>\n",
       "      <td>USA</td>\n",
       "      <td>Sphere</td>\n",
       "      <td>Sphere in the sky that glowed like an LED ligh...</td>\n",
       "      <td>NaN</td>\n",
       "    </tr>\n",
       "  </tbody>\n",
       "</table>\n",
       "</div>"
      ],
      "text/plain": [
       "      OCCURRED_DATE           CITY STATE COUNTRY   SHAPE  \\\n",
       "0               NaN            NaN   NaN     NaN     NaN   \n",
       "1  06/20/2024 09:30       Cranston    RI     USA   Flash   \n",
       "2  06/20/2024 04:30  Oklahoma City    OK     USA   Light   \n",
       "3  06/20/2024 00:50       Key West    FL     USA   Light   \n",
       "4  06/19/2024 17:50  Valley Stream    NY     USA  Sphere   \n",
       "\n",
       "                                             SUMMARY REPORTED  \n",
       "0                                                NaN      NaN  \n",
       "1  My wife and I as well as our 2 children witnes...        Y  \n",
       "2          Erratically moving light at high altitude      NaN  \n",
       "3  Saw unexplainable lights slightly west of Nort...        Y  \n",
       "4  Sphere in the sky that glowed like an LED ligh...      NaN  "
      ]
     },
     "execution_count": 2,
     "metadata": {},
     "output_type": "execute_result"
    }
   ],
   "source": [
    "# Read sightings df in for further data filtering and cleansing\n",
    "sightings_df = pd.read_csv('../Output/sightings_df.csv')\n",
    "sightings_df.head()"
   ]
  },
  {
   "cell_type": "code",
   "execution_count": 3,
   "id": "097ba664-b353-486f-ac77-f7100db3d901",
   "metadata": {},
   "outputs": [],
   "source": [
    "# Remove unnecessary columns for planned data analysis\n",
    "sightings_df = sightings_df.drop(columns = [\"REPORTED\"])"
   ]
  },
  {
   "cell_type": "code",
   "execution_count": 4,
   "id": "bd720120-c073-4af4-85d4-1fc3c8324c6c",
   "metadata": {},
   "outputs": [],
   "source": [
    "# Convert OCCURRED_DATE to Date format\n",
    "sightings_df[\"OCCURRED_DATE\"] = pd.to_datetime(sightings_df[\"OCCURRED_DATE\"]).dt.date\n"
   ]
  },
  {
   "cell_type": "code",
   "execution_count": 5,
   "id": "a0de6cdf-44ca-46fd-858e-0e833019a3d3",
   "metadata": {},
   "outputs": [],
   "source": [
    "# Create YEAR column based on OCCURRED_DATE\n",
    "sightings_df['YEAR'] = pd.to_datetime(sightings_df['OCCURRED_DATE']).dt.year"
   ]
  },
  {
   "cell_type": "code",
   "execution_count": 6,
   "id": "313f7d9b-2f3b-4804-adfa-f49a6433036b",
   "metadata": {},
   "outputs": [],
   "source": [
    "# Filter dataframe to just USA sightings\n",
    "usa_sightings_df = sightings_df.loc[sightings_df['COUNTRY'] == 'USA']\n"
   ]
  },
  {
   "cell_type": "code",
   "execution_count": 7,
   "id": "ff5057f4-807e-4d0d-baf1-e9f1d3cb595f",
   "metadata": {},
   "outputs": [
    {
     "name": "stderr",
     "output_type": "stream",
     "text": [
      "C:\\Users\\gfoley\\AppData\\Local\\Temp\\ipykernel_7512\\3031878500.py:2: SettingWithCopyWarning: \n",
      "A value is trying to be set on a copy of a slice from a DataFrame.\n",
      "Try using .loc[row_indexer,col_indexer] = value instead\n",
      "\n",
      "See the caveats in the documentation: https://pandas.pydata.org/pandas-docs/stable/user_guide/indexing.html#returning-a-view-versus-a-copy\n",
      "  usa_sightings_df['CITY'] = usa_sightings_df['CITY'].replace('', np.nan)\n"
     ]
    }
   ],
   "source": [
    "# Replace blank values from CITY with NaN and drop NaN columns for data cleanliness\n",
    "usa_sightings_df['CITY'] = usa_sightings_df['CITY'].replace('', np.nan)\n",
    "usa_sightings_df = usa_sightings_df.dropna()\n"
   ]
  },
  {
   "cell_type": "code",
   "execution_count": 8,
   "id": "fbea6fc5-a08f-431d-9220-4adf20a6676f",
   "metadata": {},
   "outputs": [],
   "source": [
    "# Create CITYSTATE combined column\n",
    "usa_sightings_df['CITYSTATE'] = usa_sightings_df['CITY'].str.cat(usa_sightings_df['STATE'], sep=', ')"
   ]
  },
  {
   "cell_type": "code",
   "execution_count": 9,
   "id": "14f78454-81f4-486c-a376-c4c9542ac7e2",
   "metadata": {},
   "outputs": [
    {
     "name": "stdout",
     "output_type": "stream",
     "text": [
      "Empty DataFrame\n",
      "Columns: [OCCURRED_DATE, CITY, STATE, COUNTRY, SHAPE, SUMMARY, YEAR, CITYSTATE]\n",
      "Index: []\n"
     ]
    }
   ],
   "source": [
    "# Confirm there are no records without an OCCURRED_DATE\n",
    "null_occurred_date = usa_sightings_df[usa_sightings_df[\"OCCURRED_DATE\"].isnull()]\n",
    "print(null_occurred_date)"
   ]
  },
  {
   "cell_type": "code",
   "execution_count": 10,
   "id": "91ccacec-05a9-42da-a3c6-4c5640a3587f",
   "metadata": {},
   "outputs": [
    {
     "data": {
      "text/html": [
       "<div>\n",
       "<style scoped>\n",
       "    .dataframe tbody tr th:only-of-type {\n",
       "        vertical-align: middle;\n",
       "    }\n",
       "\n",
       "    .dataframe tbody tr th {\n",
       "        vertical-align: top;\n",
       "    }\n",
       "\n",
       "    .dataframe thead th {\n",
       "        text-align: right;\n",
       "    }\n",
       "</style>\n",
       "<table border=\"1\" class=\"dataframe\">\n",
       "  <thead>\n",
       "    <tr style=\"text-align: right;\">\n",
       "      <th></th>\n",
       "      <th>OCCURRED_DATE</th>\n",
       "      <th>CITY</th>\n",
       "      <th>STATE</th>\n",
       "      <th>COUNTRY</th>\n",
       "      <th>SHAPE</th>\n",
       "      <th>SUMMARY</th>\n",
       "      <th>YEAR</th>\n",
       "      <th>CITYSTATE</th>\n",
       "    </tr>\n",
       "  </thead>\n",
       "  <tbody>\n",
       "    <tr>\n",
       "      <th>1</th>\n",
       "      <td>2024-06-20</td>\n",
       "      <td>Cranston</td>\n",
       "      <td>RI</td>\n",
       "      <td>USA</td>\n",
       "      <td>Flash</td>\n",
       "      <td>My wife and I as well as our 2 children witnes...</td>\n",
       "      <td>2024.0</td>\n",
       "      <td>Cranston, RI</td>\n",
       "    </tr>\n",
       "    <tr>\n",
       "      <th>3</th>\n",
       "      <td>2024-06-20</td>\n",
       "      <td>Key West</td>\n",
       "      <td>FL</td>\n",
       "      <td>USA</td>\n",
       "      <td>Light</td>\n",
       "      <td>Saw unexplainable lights slightly west of Nort...</td>\n",
       "      <td>2024.0</td>\n",
       "      <td>Key West, FL</td>\n",
       "    </tr>\n",
       "    <tr>\n",
       "      <th>2</th>\n",
       "      <td>2024-06-20</td>\n",
       "      <td>Oklahoma City</td>\n",
       "      <td>OK</td>\n",
       "      <td>USA</td>\n",
       "      <td>Light</td>\n",
       "      <td>Erratically moving light at high altitude</td>\n",
       "      <td>2024.0</td>\n",
       "      <td>Oklahoma City, OK</td>\n",
       "    </tr>\n",
       "    <tr>\n",
       "      <th>4</th>\n",
       "      <td>2024-06-19</td>\n",
       "      <td>Valley Stream</td>\n",
       "      <td>NY</td>\n",
       "      <td>USA</td>\n",
       "      <td>Sphere</td>\n",
       "      <td>Sphere in the sky that glowed like an LED ligh...</td>\n",
       "      <td>2024.0</td>\n",
       "      <td>Valley Stream, NY</td>\n",
       "    </tr>\n",
       "    <tr>\n",
       "      <th>5</th>\n",
       "      <td>2024-06-19</td>\n",
       "      <td>Jacksonville</td>\n",
       "      <td>FL</td>\n",
       "      <td>USA</td>\n",
       "      <td>Triangle</td>\n",
       "      <td>Black triangle very low no noise</td>\n",
       "      <td>2024.0</td>\n",
       "      <td>Jacksonville, FL</td>\n",
       "    </tr>\n",
       "  </tbody>\n",
       "</table>\n",
       "</div>"
      ],
      "text/plain": [
       "  OCCURRED_DATE           CITY STATE COUNTRY     SHAPE  \\\n",
       "1    2024-06-20       Cranston    RI     USA     Flash   \n",
       "3    2024-06-20       Key West    FL     USA     Light   \n",
       "2    2024-06-20  Oklahoma City    OK     USA     Light   \n",
       "4    2024-06-19  Valley Stream    NY     USA    Sphere   \n",
       "5    2024-06-19   Jacksonville    FL     USA  Triangle   \n",
       "\n",
       "                                             SUMMARY    YEAR  \\\n",
       "1  My wife and I as well as our 2 children witnes...  2024.0   \n",
       "3  Saw unexplainable lights slightly west of Nort...  2024.0   \n",
       "2          Erratically moving light at high altitude  2024.0   \n",
       "4  Sphere in the sky that glowed like an LED ligh...  2024.0   \n",
       "5                   Black triangle very low no noise  2024.0   \n",
       "\n",
       "           CITYSTATE  \n",
       "1       Cranston, RI  \n",
       "3       Key West, FL  \n",
       "2  Oklahoma City, OK  \n",
       "4  Valley Stream, NY  \n",
       "5   Jacksonville, FL  "
      ]
     },
     "execution_count": 10,
     "metadata": {},
     "output_type": "execute_result"
    }
   ],
   "source": [
    "# Sort USA dataframe by OCCURRED_DATE\n",
    "usa_sightings_df = usa_sightings_df.sort_values(by=[\"OCCURRED_DATE\"], ascending = False)\n",
    "usa_sightings_df.head()"
   ]
  },
  {
   "cell_type": "code",
   "execution_count": 11,
   "id": "dbd82a57-39b6-44b2-be7e-7f7b8c60fb26",
   "metadata": {},
   "outputs": [
    {
     "data": {
      "text/html": [
       "<div>\n",
       "<style scoped>\n",
       "    .dataframe tbody tr th:only-of-type {\n",
       "        vertical-align: middle;\n",
       "    }\n",
       "\n",
       "    .dataframe tbody tr th {\n",
       "        vertical-align: top;\n",
       "    }\n",
       "\n",
       "    .dataframe thead th {\n",
       "        text-align: right;\n",
       "    }\n",
       "</style>\n",
       "<table border=\"1\" class=\"dataframe\">\n",
       "  <thead>\n",
       "    <tr style=\"text-align: right;\">\n",
       "      <th></th>\n",
       "      <th>OCCURRED_DATE</th>\n",
       "      <th>CITY</th>\n",
       "      <th>STATE</th>\n",
       "      <th>COUNTRY</th>\n",
       "      <th>SHAPE</th>\n",
       "      <th>SUMMARY</th>\n",
       "      <th>YEAR</th>\n",
       "      <th>CITYSTATE</th>\n",
       "    </tr>\n",
       "    <tr>\n",
       "      <th>SIGHTING_ID</th>\n",
       "      <th></th>\n",
       "      <th></th>\n",
       "      <th></th>\n",
       "      <th></th>\n",
       "      <th></th>\n",
       "      <th></th>\n",
       "      <th></th>\n",
       "      <th></th>\n",
       "    </tr>\n",
       "  </thead>\n",
       "  <tbody>\n",
       "    <tr>\n",
       "      <th>1</th>\n",
       "      <td>2024-06-20</td>\n",
       "      <td>Cranston</td>\n",
       "      <td>RI</td>\n",
       "      <td>USA</td>\n",
       "      <td>Flash</td>\n",
       "      <td>My wife and I as well as our 2 children witnes...</td>\n",
       "      <td>2024.0</td>\n",
       "      <td>Cranston, RI</td>\n",
       "    </tr>\n",
       "    <tr>\n",
       "      <th>2</th>\n",
       "      <td>2024-06-20</td>\n",
       "      <td>Key West</td>\n",
       "      <td>FL</td>\n",
       "      <td>USA</td>\n",
       "      <td>Light</td>\n",
       "      <td>Saw unexplainable lights slightly west of Nort...</td>\n",
       "      <td>2024.0</td>\n",
       "      <td>Key West, FL</td>\n",
       "    </tr>\n",
       "    <tr>\n",
       "      <th>3</th>\n",
       "      <td>2024-06-20</td>\n",
       "      <td>Oklahoma City</td>\n",
       "      <td>OK</td>\n",
       "      <td>USA</td>\n",
       "      <td>Light</td>\n",
       "      <td>Erratically moving light at high altitude</td>\n",
       "      <td>2024.0</td>\n",
       "      <td>Oklahoma City, OK</td>\n",
       "    </tr>\n",
       "    <tr>\n",
       "      <th>4</th>\n",
       "      <td>2024-06-19</td>\n",
       "      <td>Valley Stream</td>\n",
       "      <td>NY</td>\n",
       "      <td>USA</td>\n",
       "      <td>Sphere</td>\n",
       "      <td>Sphere in the sky that glowed like an LED ligh...</td>\n",
       "      <td>2024.0</td>\n",
       "      <td>Valley Stream, NY</td>\n",
       "    </tr>\n",
       "    <tr>\n",
       "      <th>5</th>\n",
       "      <td>2024-06-19</td>\n",
       "      <td>Jacksonville</td>\n",
       "      <td>FL</td>\n",
       "      <td>USA</td>\n",
       "      <td>Triangle</td>\n",
       "      <td>Black triangle very low no noise</td>\n",
       "      <td>2024.0</td>\n",
       "      <td>Jacksonville, FL</td>\n",
       "    </tr>\n",
       "  </tbody>\n",
       "</table>\n",
       "</div>"
      ],
      "text/plain": [
       "            OCCURRED_DATE           CITY STATE COUNTRY     SHAPE  \\\n",
       "SIGHTING_ID                                                        \n",
       "1              2024-06-20       Cranston    RI     USA     Flash   \n",
       "2              2024-06-20       Key West    FL     USA     Light   \n",
       "3              2024-06-20  Oklahoma City    OK     USA     Light   \n",
       "4              2024-06-19  Valley Stream    NY     USA    Sphere   \n",
       "5              2024-06-19   Jacksonville    FL     USA  Triangle   \n",
       "\n",
       "                                                       SUMMARY    YEAR  \\\n",
       "SIGHTING_ID                                                              \n",
       "1            My wife and I as well as our 2 children witnes...  2024.0   \n",
       "2            Saw unexplainable lights slightly west of Nort...  2024.0   \n",
       "3                    Erratically moving light at high altitude  2024.0   \n",
       "4            Sphere in the sky that glowed like an LED ligh...  2024.0   \n",
       "5                             Black triangle very low no noise  2024.0   \n",
       "\n",
       "                     CITYSTATE  \n",
       "SIGHTING_ID                     \n",
       "1                 Cranston, RI  \n",
       "2                 Key West, FL  \n",
       "3            Oklahoma City, OK  \n",
       "4            Valley Stream, NY  \n",
       "5             Jacksonville, FL  "
      ]
     },
     "execution_count": 11,
     "metadata": {},
     "output_type": "execute_result"
    }
   ],
   "source": [
    "usa_sightings_df['SIGHTING_ID'] = range(1, len(usa_sightings_df) + 1)\n",
    "usa_sightings_df.set_index('SIGHTING_ID', inplace=True)\n",
    "usa_sightings_df.head()"
   ]
  },
  {
   "cell_type": "code",
   "execution_count": 12,
   "id": "1a6280f8-73b6-4d1c-9b09-919b0472dfff",
   "metadata": {},
   "outputs": [],
   "source": [
    "# Save USA sightings data for future use\n",
    "usa_sightings_df.to_csv('../Output/usa_sightings_df_.csv')"
   ]
  },
  {
   "cell_type": "code",
   "execution_count": null,
   "id": "fbf7f0d9-15bb-4ebb-bfd7-bbbdd95377b4",
   "metadata": {},
   "outputs": [],
   "source": []
  }
 ],
 "metadata": {
  "kernelspec": {
   "display_name": "Python 3 (ipykernel)",
   "language": "python",
   "name": "python3"
  },
  "language_info": {
   "codemirror_mode": {
    "name": "ipython",
    "version": 3
   },
   "file_extension": ".py",
   "mimetype": "text/x-python",
   "name": "python",
   "nbconvert_exporter": "python",
   "pygments_lexer": "ipython3",
   "version": "3.10.14"
  }
 },
 "nbformat": 4,
 "nbformat_minor": 5
}

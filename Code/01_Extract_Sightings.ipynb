{
 "cells": [
  {
   "cell_type": "code",
   "execution_count": null,
   "id": "02c60420-08dd-4abe-8870-fb06ee63eb0c",
   "metadata": {},
   "outputs": [],
   "source": [
    "# Import Splinter, BeautifulSoup and dependencies\n",
    "import requests\n",
    "from bs4 import BeautifulSoup as bs\n",
    "from pymongo import MongoClient\n",
    "from splinter import Browser\n",
    "from selenium import webdriver\n",
    "import time\n",
    "import pandas as pd\n",
    "from pprint import pprint\n",
    "import numpy as np"
   ]
  },
  {
   "cell_type": "code",
   "execution_count": null,
   "id": "b1a80295-d443-4f3b-b5f4-d82b8ceee89c",
   "metadata": {},
   "outputs": [],
   "source": [
    "# Launch browser\n",
    "#browser = Browser('chrome')\n",
    "#time.sleep(2)\n",
    "#url = \"https://nuforc.org/subndx/?id=highlights\"\n",
    "#browser.visit(url)"
   ]
  },
  {
   "cell_type": "code",
   "execution_count": null,
   "id": "acb15b60-1ac8-4004-bacf-fab16ecde9ba",
   "metadata": {},
   "outputs": [],
   "source": [
    "# Create Beautiful Soup\n",
    "#html = browser.html\n",
    "#soup = bs(html, 'html.parser')\n",
    "#table =  soup.find('div', id=\"outer-wrap\").find('div', id=\"table_1_wrapper\").find('table', id=\"table_1\")"
   ]
  },
  {
   "cell_type": "code",
   "execution_count": null,
   "id": "32e7fc0d-d65d-4253-8f83-fbbb5e1c4518",
   "metadata": {},
   "outputs": [],
   "source": [
    "#sightings = []"
   ]
  },
  {
   "cell_type": "code",
   "execution_count": null,
   "id": "d0cdcbca-c8cd-467a-ac88-046d97640f57",
   "metadata": {},
   "outputs": [],
   "source": [
    "#odd_rows = table.find_all('tr', class_='odd')\n",
    "#for odd in odd_rows:\n",
    "#    data = odd.find_all('td')\n",
    "#    odd = [odd.text for odd in data]\n",
    "#    sightings.append(odd)"
   ]
  },
  {
   "cell_type": "code",
   "execution_count": null,
   "id": "09f533c0-077e-4730-9dad-376459efca3a",
   "metadata": {},
   "outputs": [],
   "source": [
    "#even_rows = table.find_all('tr', class_='even')\n",
    "#for even in even_rows:\n",
    "#    data = even.find_all('td')\n",
    "#    even = [even.text for even in data]\n",
    "#    sightings.append(even)"
   ]
  },
  {
   "cell_type": "code",
   "execution_count": null,
   "id": "6108c421-5842-49c9-89ba-2dd6a4dc8376",
   "metadata": {},
   "outputs": [],
   "source": [
    "# Launch browser\n",
    "browser = Browser('chrome') \n",
    "url = \"https://nuforc.org/subndx/?id=all\"\n",
    "browser.visit(url)\n",
    "\n",
    "# Initialize an empty list to store all sightings\n",
    "sightings = []\n"
   ]
  },
  {
   "cell_type": "code",
   "execution_count": null,
   "id": "01e73720-0711-4835-b092-8f419c2a58ff",
   "metadata": {},
   "outputs": [],
   "source": [
    "# Iterate through each page\n",
    "while True:\n",
    "    # Create Beautiful Soup object\n",
    "    html = browser.html\n",
    "    soup = bs(html, 'html.parser')\n",
    "    \n",
    "    time.sleep(2) \n",
    "    # Find the sightings data table on the current page\n",
    "    table = soup.find('div', id='outer-wrap').find('table', id='table_1')\n",
    "\n",
    "    time.sleep(2)\n",
    "    # Extract odd rows class\n",
    "    odd_rows = table.find_all('tr', class_='odd')\n",
    "    for odd in odd_rows:\n",
    "        data = odd.find_all('td')\n",
    "        odd_data = [d.text for d in data]\n",
    "        sightings.append(odd_data)\n",
    "        print(odd_data)\n",
    "    \n",
    "    time.sleep(2)\n",
    "    # Extract even rows class\n",
    "    even_rows = table.find_all('tr', class_='even')\n",
    "    for even in even_rows:\n",
    "        data = even.find_all('td')\n",
    "        even_data = [d.text for d in data]\n",
    "        sightings.append(even_data)\n",
    "        print(even_data)\n",
    "\n",
    "    time.sleep(2)\n",
    "    # Click the next button using JavaScript to bypass interception\n",
    "    try:\n",
    "        next_button = browser.find_by_id('table_1_next')\n",
    "        browser.execute_script(\"arguments[0].click();\", next_button[0]._element)\n",
    "    except Exception as e:\n",
    "        print(f\"Error clicking next button: {e}\")\n",
    "        break  "
   ]
  },
  {
   "cell_type": "code",
   "execution_count": null,
   "id": "d00aa8b0-61dc-4e52-8e7c-c5140ed4b13e",
   "metadata": {},
   "outputs": [],
   "source": [
    "# Check if there is a next button\n",
    "    next_button = browser.find_by_id('table_1_next')\n",
    "    if not next_button.is_empty():\n",
    "        next_button.click()\n",
    "        time.sleep(5)  # Allow time for the next page to load\n",
    "    else:\n",
    "        break  # Exit the loop if there's no next button"
   ]
  },
  {
   "cell_type": "code",
   "execution_count": null,
   "id": "36de994f-7e0a-4e10-82de-1c4113cce9ea",
   "metadata": {},
   "outputs": [],
   "source": [
    "# Close the browser\n",
    "browser.quit()\n"
   ]
  },
  {
   "cell_type": "code",
   "execution_count": null,
   "id": "43d3c5dd-cf1b-4dbc-93f0-d4c946616168",
   "metadata": {},
   "outputs": [],
   "source": [
    "# Print sightings data\n",
    "for sighting in sightings:\n",
    "    print(sighting)"
   ]
  },
  {
   "cell_type": "code",
   "execution_count": null,
   "id": "95645383-10aa-423f-9c0f-6aa444e56862",
   "metadata": {},
   "outputs": [],
   "source": [
    "sightings_df = pd.DataFrame(sightings,\n",
    "                           columns = [\"LINK\",\n",
    "                                     \"OCCURRED_DATE\",\n",
    "                                     \"CITY\",\n",
    "                                     \"STATE\",\n",
    "                                     \"COUNTRY\",\n",
    "                                     \"SHAPE\",\n",
    "                                     \"SUMMARY\",\n",
    "                                     \"MEDIA\",\n",
    "                                     \"EXPLANATION\"\n",
    "                                     ])\n",
    "sightings_df"
   ]
  },
  {
   "cell_type": "code",
   "execution_count": null,
   "id": "3b163bca-a4e6-4d58-b345-4b9b35777e10",
   "metadata": {},
   "outputs": [],
   "source": [
    "sightings_df = sightings_df.drop(columns = [\"LINK\", \"MEDIA\", \"EXPLANATION\"])\n",
    "sightings_df"
   ]
  },
  {
   "cell_type": "code",
   "execution_count": null,
   "id": "b44d8ed3-7de7-499b-a639-5c9ff09be8db",
   "metadata": {},
   "outputs": [],
   "source": [
    "sightings_df[\"OCCURRED_DATE\"] = pd.to_datetime(sightings_df[\"OCCURRED_DATE\"]).dt.date\n",
    "sightings_df"
   ]
  },
  {
   "cell_type": "code",
   "execution_count": null,
   "id": "313f7d9b-2f3b-4804-adfa-f49a6433036b",
   "metadata": {},
   "outputs": [],
   "source": [
    "usa_sightings_df = sightings_df.loc[sightings_df['COUNTRY'] == 'USA']\n",
    "usa_sightings_df['CITY'] = usa_sightings_df['CITY'].replace('', np.nan)\n",
    "usa_sightings_df = usa_sightings_df.dropna()\n",
    "usa_sightings_df['CITYSTATE'] = usa_sightings_df['CITY'].str.cat(usa_sightings_df['STATE'], sep=', ')\n",
    "usa_sightings_df"
   ]
  }
 ],
 "metadata": {
  "kernelspec": {
   "display_name": "Python 3 (ipykernel)",
   "language": "python",
   "name": "python3"
  },
  "language_info": {
   "codemirror_mode": {
    "name": "ipython",
    "version": 3
   },
   "file_extension": ".py",
   "mimetype": "text/x-python",
   "name": "python",
   "nbconvert_exporter": "python",
   "pygments_lexer": "ipython3",
   "version": "3.10.14"
  }
 },
 "nbformat": 4,
 "nbformat_minor": 5
}

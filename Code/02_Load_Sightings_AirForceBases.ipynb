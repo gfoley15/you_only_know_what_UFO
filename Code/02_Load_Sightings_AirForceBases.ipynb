{
 "cells": [
  {
   "cell_type": "code",
   "execution_count": null,
   "id": "21f9fdba-e880-4fad-a0b2-3eb3097926e1",
   "metadata": {},
   "outputs": [],
   "source": [
    "# Import dependencies\n",
    "from pymongo import MongoClient\n",
    "import json\n",
    "import pandas as pd\n"
   ]
  },
  {
   "cell_type": "code",
   "execution_count": null,
   "id": "464b5db8-24b7-4705-a679-7489bf86d158",
   "metadata": {},
   "outputs": [],
   "source": [
    "# Create an instance of MongoClient\n",
    "mongo = MongoClient(port=27017)\n",
    "\n",
    "# assign the database to a variable name\n",
    "db = mongo['nuforc']\n",
    "\n",
    "# assign collection to a variable\n",
    "usa_sightings = db['usa_sightings']"
   ]
  },
  {
   "cell_type": "code",
   "execution_count": null,
   "id": "4c6cc624-db4a-4daf-a4a6-7211a5498bb6",
   "metadata": {},
   "outputs": [],
   "source": [
    "# Read in usa_sightings dataframe with lat / long\n",
    "usa_sightings_df = pd.read_csv('../Output/usa_sightings_df_.csv')\n"
   ]
  },
  {
   "cell_type": "code",
   "execution_count": null,
   "id": "9503c59d-4376-4fc2-bb3e-8abf6f51f75e",
   "metadata": {},
   "outputs": [],
   "source": [
    "# Create a data frame for flight search df\n",
    "usa_sightings_df = pd.DataFrame(usa_sightings_df)\n",
    "usa_sightings_df"
   ]
  },
  {
   "cell_type": "code",
   "execution_count": null,
   "id": "76cb2e0b-0358-44f8-84b3-e4af75d51e09",
   "metadata": {},
   "outputs": [],
   "source": [
    "# Convert DataFrame to list of dictionaries\n",
    "usa_sightings_dict = usa_sightings_df.to_dict(orient='records')\n",
    "usa_sightings_dict"
   ]
  },
  {
   "cell_type": "code",
   "execution_count": null,
   "id": "b10ad9fd-b7f9-4fe8-94d1-08e965e365e5",
   "metadata": {},
   "outputs": [],
   "source": [
    "# Insert all usa sightings into Mongo DB collection\n",
    "usa_sightings.insert_many(usa_sightings_dict)"
   ]
  },
  {
   "cell_type": "code",
   "execution_count": null,
   "id": "a0dd3aa0-770f-4690-a437-f8dde34c1341",
   "metadata": {},
   "outputs": [],
   "source": [
    "# assign the collection to a variable\n",
    "airforce_bases = db['airforce_bases']"
   ]
  },
  {
   "cell_type": "code",
   "execution_count": null,
   "id": "71b64412-cf07-4b1e-8a9d-24f2d85ecc87",
   "metadata": {},
   "outputs": [],
   "source": [
    "# Read in usa_sightings dataframe with lat / long\n",
    "airforce_bases_json = pd.read_json('../Code/afb_active_duty.json')"
   ]
  },
  {
   "cell_type": "code",
   "execution_count": null,
   "id": "88fc8766-f710-4faf-b718-1f92e7c1ec7d",
   "metadata": {},
   "outputs": [],
   "source": [
    "# Convert DataFrame to list of dictionaries\n",
    "airforce_bases_dict = airforcebases_json.to_dict(orient='records')\n",
    "airforce_bases_dict"
   ]
  },
  {
   "cell_type": "code",
   "execution_count": null,
   "id": "1800d2c4-d139-40de-8c63-478a91f642d6",
   "metadata": {},
   "outputs": [],
   "source": [
    "# Insert all usa sightings into Mongo DB collection\n",
    "airforce_bases.insert_many(airforce_bases_dict)"
   ]
  },
  {
   "cell_type": "code",
   "execution_count": null,
   "id": "10c7d7c9-f856-4610-a498-30a0006e1edb",
   "metadata": {},
   "outputs": [],
   "source": [
    "# usa_sightings.delete_many({}) #empty the collection"
   ]
  },
  {
   "cell_type": "code",
   "execution_count": null,
   "id": "8f384da9-f79b-46b6-8601-94b292a12981",
   "metadata": {},
   "outputs": [],
   "source": [
    "# airforce_bases.delete_many({}) #empty the collection"
   ]
  }
 ],
 "metadata": {
  "kernelspec": {
   "display_name": "Python 3 (ipykernel)",
   "language": "python",
   "name": "python3"
  },
  "language_info": {
   "codemirror_mode": {
    "name": "ipython",
    "version": 3
   },
   "file_extension": ".py",
   "mimetype": "text/x-python",
   "name": "python",
   "nbconvert_exporter": "python",
   "pygments_lexer": "ipython3",
   "version": "3.10.14"
  }
 },
 "nbformat": 4,
 "nbformat_minor": 5
}

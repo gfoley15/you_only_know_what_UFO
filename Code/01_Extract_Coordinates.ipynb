{
 "cells": [
  {
   "cell_type": "code",
   "execution_count": 1,
   "id": "725a505d-3162-4ca8-8abc-c59171ebc316",
   "metadata": {},
   "outputs": [],
   "source": [
    "# Dependencies and Setup\n",
    "import matplotlib.pyplot as plt\n",
    "import pandas as pd\n",
    "import numpy as np\n",
    "import requests\n",
    "import time\n",
    "from scipy.stats import linregress\n",
    "\n",
    "# Impor the OpenWeatherMap API key\n",
    "from api_keys import api_key"
   ]
  },
  {
   "cell_type": "code",
   "execution_count": null,
   "id": "1196aed5-9824-4348-b3cb-5ab637de2a9a",
   "metadata": {},
   "outputs": [],
   "source": [
    "# Example API URL\n",
    "# http://api.openweathermap.org/geo/1.0/direct?q={city_name},{state_code},{country_code}&limit={limit}&appid={API key}"
   ]
  },
  {
   "cell_type": "code",
   "execution_count": 2,
   "id": "948044fd-502b-4796-824b-1fb1f77577c9",
   "metadata": {},
   "outputs": [
    {
     "data": {
      "text/plain": [
       "'http://api.openweathermap.org/geo/1.0/direct?q=Kansas City,MO,US&appid=4b05a84f281638c6482f2fe919ea6a27'"
      ]
     },
     "execution_count": 2,
     "metadata": {},
     "output_type": "execute_result"
    }
   ],
   "source": [
    "# Set the API base URL\n",
    "base_url = \"http://api.openweathermap.org/geo/1.0/direct?\"\n",
    "\n",
    "# Building test API URL\n",
    "city_name = \"Kansas City\"\n",
    "state_code = \"MO\"\n",
    "country_code = \"US\"\n",
    "url = f\"{base_url}q={city_name},{state_code},{country_code}&appid={api_key}\"\n",
    "url"
   ]
  },
  {
   "cell_type": "code",
   "execution_count": 3,
   "id": "58350a54-c8fd-46c5-b322-060d8bfb2853",
   "metadata": {},
   "outputs": [
    {
     "name": "stdout",
     "output_type": "stream",
     "text": [
      "<Response [200]>\n"
     ]
    }
   ],
   "source": [
    "# Testing API response\n",
    "response = requests.get(url, verify=False)\n",
    "print(response)"
   ]
  },
  {
   "cell_type": "code",
   "execution_count": 4,
   "id": "9e3ebe7a-0adb-41dd-9309-b908bf37c32f",
   "metadata": {},
   "outputs": [
    {
     "data": {
      "text/plain": [
       "[{'name': 'Kansas City',\n",
       "  'local_names': {'en': 'Kansas City',\n",
       "   'oc': 'Kansas City',\n",
       "   'ru': 'Канзас-Сити'},\n",
       "  'lat': 39.100105,\n",
       "  'lon': -94.5781416,\n",
       "  'country': 'US',\n",
       "  'state': 'Missouri'}]"
      ]
     },
     "execution_count": 4,
     "metadata": {},
     "output_type": "execute_result"
    }
   ],
   "source": [
    "# Get test city weather data from Kansas City to see JSON\n",
    "test_data = response.json()\n",
    "test_data"
   ]
  },
  {
   "cell_type": "code",
   "execution_count": 5,
   "id": "9ee21243-1fcf-4226-89e1-93c732621f54",
   "metadata": {},
   "outputs": [],
   "source": [
    "# Gather variables from Kansas City test data in preparation to be used in Cities For loop\n",
    "test_name = test_data[0]['name']\n",
    "test_lat = test_data[0]['lat']\n",
    "test_lng = test_data[0]['lon']\n"
   ]
  },
  {
   "cell_type": "code",
   "execution_count": 6,
   "id": "ac759c50-b430-4a22-a383-e111c79520d8",
   "metadata": {},
   "outputs": [
    {
     "name": "stdout",
     "output_type": "stream",
     "text": [
      "Kansas City\n",
      "39.100105\n",
      "-94.5781416\n"
     ]
    }
   ],
   "source": [
    "print(test_name)\n",
    "print(test_lat)\n",
    "print(test_lng)"
   ]
  },
  {
   "cell_type": "code",
   "execution_count": null,
   "id": "0539155d-3f08-4ab4-be0f-198e349166af",
   "metadata": {},
   "outputs": [],
   "source": []
  }
 ],
 "metadata": {
  "kernelspec": {
   "display_name": "Python 3 (ipykernel)",
   "language": "python",
   "name": "python3"
  },
  "language_info": {
   "codemirror_mode": {
    "name": "ipython",
    "version": 3
   },
   "file_extension": ".py",
   "mimetype": "text/x-python",
   "name": "python",
   "nbconvert_exporter": "python",
   "pygments_lexer": "ipython3",
   "version": "3.10.14"
  }
 },
 "nbformat": 4,
 "nbformat_minor": 5
}
